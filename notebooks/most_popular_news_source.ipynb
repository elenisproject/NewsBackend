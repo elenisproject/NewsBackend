{
  "nbformat": 4,
  "nbformat_minor": 0,
  "metadata": {
    "kernelspec": {
      "display_name": "Python 3",
      "language": "python",
      "name": "python3"
    },
    "language_info": {
      "codemirror_mode": {
        "name": "ipython",
        "version": 3
      },
      "file_extension": ".py",
      "mimetype": "text/x-python",
      "name": "python",
      "nbconvert_exporter": "python",
      "pygments_lexer": "ipython3",
      "version": "3.8.6"
    },
    "colab": {
      "name": "most_popular_news_source.ipynb",
      "provenance": [],
      "include_colab_link": true
    }
  },
  "cells": [
    {
      "cell_type": "markdown",
      "metadata": {
        "id": "view-in-github",
        "colab_type": "text"
      },
      "source": [
        "<a href=\"https://colab.research.google.com/github/elenisproject/NewsCleanser/blob/master/notebooks/most_popular_news_source.ipynb\" target=\"_parent\"><img src=\"https://colab.research.google.com/assets/colab-badge.svg\" alt=\"Open In Colab\"/></a>"
      ]
    },
    {
      "cell_type": "markdown",
      "metadata": {
        "id": "rbWo51OrOZP3"
      },
      "source": [
        "# In this notebook we are going to find the most popular news source\n",
        "<br>\n",
        "<font size=\"3\">\n",
        "First we need to import all the needed libraries for this project\n",
        "<br>\n",
        "We our going to use:\n",
        "\n",
        "- matplotlib\n",
        "- pandas\n",
        "- wordcloud\n",
        "- regex\n",
        "- sys\n",
        "</font>"
      ]
    },
    {
      "cell_type": "code",
      "metadata": {
        "id": "JRO9e151OZP4"
      },
      "source": [
        "# coding: utf-8\n",
        "from matplotlib import pyplot as plt\n",
        "import pandas as pd\n",
        "import collections\n",
        "from collections import Counter,defaultdict,OrderedDict,namedtuple \n",
        "from wordcloud import WordCloud, STOPWORDS, ImageColorGenerator\n",
        "from datetime import datetime\n",
        "import re\n",
        "import sys\n",
        "#this is the path for my computer modify accordingly\n",
        "sys.path.insert(1, '/Users/elenikaranikola/Desktop/NewsCleanser')\n",
        "from settings import delete_source,ape_mpe_names"
      ],
      "execution_count": null,
      "outputs": []
    },
    {
      "cell_type": "markdown",
      "metadata": {
        "id": "Vvtour8fOZP9"
      },
      "source": [
        "<br>\n",
        "<font size=\"3\">\n",
        "After installing and importing everything we need to run our project, we will read our data from the output2.csv. This csv contains all the unfilterd data. We need this because we are going to search through the articles to find their sources and furthermore determine which are the most popular ones.\n",
        "</font>\n",
        "<br>"
      ]
    },
    {
      "cell_type": "code",
      "metadata": {
        "id": "y3FStMllOZP-"
      },
      "source": [
        "#read the data from output2.csv file\n",
        "df = pd.read_csv('output2.csv')\n",
        "\n",
        "#fill all null values, otherwise there will be problems during our text editing\n",
        "df = df.fillna(\" \")"
      ],
      "execution_count": null,
      "outputs": []
    },
    {
      "cell_type": "markdown",
      "metadata": {
        "id": "5gmIMwPeOZQC"
      },
      "source": [
        "<br>\n",
        "<font size=\"3\">\n",
        "In the next next block we will define the functions we will use in this project:\n",
        "\n",
        "- **plot_barchart(x):** gets as input a dictionary and places the keys in y axis and the the values in x axis.\n",
        "- **source(x):** gets as input the whole dataframe and uses regex to find a string in our data. This function returns all the the results from the regex in a list of words.\n",
        "- **second_filter(x):** gets as input the result produced from source function and does a second regex search to eliminate unwanted data.\n",
        "- **edit_dict(x):** gets as input a dictionary and filters out the keys given from settings file. Returns the edited dictionary.\n",
        "</font>\n",
        "<br>"
      ]
    },
    {
      "cell_type": "code",
      "metadata": {
        "id": "wtp3brVGOZQC"
      },
      "source": [
        "#function to print output from a given dictionary\n",
        "def plot_barchart(mydict):\n",
        "    source = []\n",
        "    count = []\n",
        "\n",
        "    for w in sorted(mydict, key=mydict.get, reverse=True):\n",
        "        source.append(w)\n",
        "        count.append(mydict[w])\n",
        "\n",
        "    plt.figure(figsize=(20, 5))\n",
        "    plt.bar(source[0:10], count[0:10], color = 'darkviolet')\n",
        "    plt.title('Bar chart for 10 most popular News Sources')\n",
        "    plt.grid(axis='y')\n",
        "    plt.show() \n",
        "    \n",
        "#function that finds all sentences that start with the word \"πηγη\" which means source in greek    \n",
        "def source(data):\n",
        "    text_combined = []\n",
        "    for x in data['article_body']:\n",
        "        source_sentence = re.findall(r'πηγή.+',x)\n",
        "        if source_sentence != []:\n",
        "            value = source_sentence.pop()\n",
        "            text_combined.append(value[5:35])\n",
        "    return text_combined\n",
        "\n",
        "#fuction to do the second filtering\n",
        "def second_filter(text_combined):\n",
        "    source_list = []\n",
        "    for x in text_combined:\n",
        "        res = re.search(r'[Α-Ωa-zA-Z\\.\\-\\s0-9]+',x)\n",
        "        if res != None:\n",
        "            grouped_text = res.group(0)\n",
        "            # here we check and filter some common unrelative cases\n",
        "            if len(grouped_text) > 4 or (re.search(r'\\.',grouped_text) is None and len(grouped_text)>=4) :\n",
        "                source_list.append(grouped_text)\n",
        "    return(source_list)\n",
        "\n",
        "def edit_dict(mydict):\n",
        "    ape = 0\n",
        "    #add in one key all different names for the same source for ape\n",
        "    for x in ape_mpe_names:\n",
        "        ape = ape + mydict[x]\n",
        "    #delete them\n",
        "    for x in ape_mpe_names:\n",
        "        del mydict[x]\n",
        "    #update the ditionary with the final count   \n",
        "    mydict['ΑΠΕ-ΜΠΕ']= ape\n",
        "\n",
        "    # do the same for tempo24.gr\n",
        "    tempo = mydict[' tempo24.gr'] + mydict[' tempo24.news']\n",
        "    mydict.update({' tempo24.gr':tempo})\n",
        "    del mydict[' tempo24.news']\n",
        "    \n",
        "    return mydict"
      ],
      "execution_count": null,
      "outputs": []
    },
    {
      "cell_type": "markdown",
      "metadata": {
        "id": "uTM5ysqeOZQF"
      },
      "source": [
        "<br>\n",
        "<font size=\"3\">\n",
        "This final code block contains the main code to plot our barchar:\n",
        "</font>\n",
        "<br>"
      ]
    },
    {
      "cell_type": "code",
      "metadata": {
        "id": "DetVBdqsOZQG",
        "outputId": "a64a027e-7384-45af-b4e5-646162984604"
      },
      "source": [
        "#find all sentences that start with the word \"πηγη\" which means source in greek\n",
        "text_combined = source(df) \n",
        "\n",
        "#after the first filter we realize that most sources are given are either in capitel Greek or engilish,\n",
        "#based on this we do a second filtering\n",
        "source_list = second_filter(text_combined)\n",
        "\n",
        "#create a dictionary with key the source and value the number of times listed in our source_list\n",
        "mydict = {}\n",
        "my_set = set(source_list) \n",
        "for x in my_set:\n",
        "    number = source_list.count(x)\n",
        "    mydict.update({x:number})\n",
        "\n",
        "# delete all the false sources\n",
        "for x in delete_source:\n",
        "    del mydict[x]\n",
        "\n",
        "#find similar names for the same source and add them up\n",
        "mydict = edit_dict(mydict)   \n",
        "\n",
        "#plot\n",
        "plot_barchart(mydict)"
      ],
      "execution_count": null,
      "outputs": [
        {
          "output_type": "display_data",
          "data": {
            "image/png": "[encoded data removed]",
            "text/plain": [
              "<Figure size 1440x360 with 1 Axes>"
            ]
          },
          "metadata": {
            "tags": [],
            "needs_background": "light"
          }
        }
      ]
    }
  ]
}