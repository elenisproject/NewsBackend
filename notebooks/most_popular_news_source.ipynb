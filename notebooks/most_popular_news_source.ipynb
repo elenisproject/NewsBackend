{
  "nbformat": 4,
  "nbformat_minor": 0,
  "metadata": {
    "kernelspec": {
      "display_name": "Python 3",
      "language": "python",
      "name": "python3"
    },
    "language_info": {
      "codemirror_mode": {
        "name": "ipython",
        "version": 3
      },
      "file_extension": ".py",
      "mimetype": "text/x-python",
      "name": "python",
      "nbconvert_exporter": "python",
      "pygments_lexer": "ipython3",
      "version": "3.8.6"
    },
    "colab": {
      "name": "most_news_source.ipynb",
      "provenance": [],
      "include_colab_link": true
    }
  },
  "cells": [
    {
      "cell_type": "markdown",
      "metadata": {
        "id": "view-in-github",
        "colab_type": "text"
      },
      "source": [
        "<a href=\"https://colab.research.google.com/github/elenisproject/NewsCleanser/blob/master/notebooks/most_popular_news_source.ipynb\" target=\"_parent\"><img src=\"https://colab.research.google.com/assets/colab-badge.svg\" alt=\"Open In Colab\"/></a>"
      ]
    },
    {
      "cell_type": "markdown",
      "metadata": {
        "id": "XYObx2L0hrqC"
      },
      "source": [
        "# In this notebook we are going to Find the Most Popular News Source\n",
        "<br>\n",
        "<font size=\"3\">\n",
        "First we need to import all the needed libraries for this project\n",
        "<br>\n",
        "We our going to use:\n",
        "\n",
        "- matplotlib\n",
        "- pandas\n",
        "- wordcloud\n",
        "- regex\n",
        "    </font>"
      ]
    },
    {
      "cell_type": "code",
      "metadata": {
        "id": "WzZlOEG1hrqD"
      },
      "source": [
        "from matplotlib import pyplot as plt\n",
        "import pandas as pd\n",
        "import collections\n",
        "from collections import Counter,defaultdict,OrderedDict,namedtuple \n",
        "from wordcloud import WordCloud, STOPWORDS, ImageColorGenerator\n",
        "from datetime import datetime\n",
        "import re"
      ],
      "execution_count": null,
      "outputs": []
    },
    {
      "cell_type": "markdown",
      "metadata": {
        "id": "rOqoLyUNhrqI"
      },
      "source": [
        "<br>\n",
        "<font size=\"3\">\n",
        "After installing and importing everything we need to run our project, we will read our data from the output2.csv. This csv contains all the unfilterd data. We need this because we are going to search through the articles to find their sources and furthermore determine which are the most popular ones.\n",
        "</font>\n",
        "<br>\n",
        "<br>"
      ]
    },
    {
      "cell_type": "code",
      "metadata": {
        "id": "7EYxZqIVhrqI",
        "outputId": "bb15e25d-5e30-4ed7-f87c-3f7c77a94ce5"
      },
      "source": [
        "#read the data from output2.csv file\n",
        "df = pd.read_csv('output2.csv')\n",
        "\n",
        "#fill all null values, otherwise there will be problems during our text editing\n",
        "df = df.fillna(\" \")\n",
        "\n",
        "#function to print output from a given dictionary\n",
        "def plot_barchart(mydict):\n",
        "    source = []\n",
        "    count = []\n",
        "\n",
        "    for w in sorted(mydict, key=mydict.get, reverse=True):\n",
        "        source.append(w)\n",
        "        count.append(mydict[w])\n",
        "\n",
        "    plt.figure(figsize=(20, 5))\n",
        "    plt.bar(source[0:10], count[0:10])\n",
        "    plt.title('Bar chart for 10 most popular News Sources')\n",
        "    plt.show() \n",
        "    \n",
        "#find all sentences that start with the word \"πηγη\" which means source in greek\n",
        "text_combined = []\n",
        "for x in df['article_body']:\n",
        "    source_sentence = re.findall(r'πηγή.+',x)\n",
        "    if source_sentence != []:\n",
        "        value = source_sentence.pop()\n",
        "        text_combined.append(value[5:35])\n",
        "\n",
        "#after the first filter we realize that most sources are given are either in capitel Greek or engilish,\n",
        "#based on this we do a second filtering\n",
        "source_list = []\n",
        "for x in text_combined:\n",
        "    res = re.search(r'[Α-Ωa-zA-Z\\.\\-\\s0-9]+',x)\n",
        "    if res != None:\n",
        "        grouped_text = res.group(0)\n",
        "        # here we check and filter some common unrelative cases\n",
        "        if len(grouped_text) > 4 or (re.search(r'\\.',grouped_text) is None and len(grouped_text)>=4) :\n",
        "            source_list.append(grouped_text)\n",
        "\n",
        "#create a dictionary with key the source and value the number of times listed in our source_list\n",
        "mydict = {}\n",
        "my_set = set(source_list) \n",
        "for x in my_set:\n",
        "    number = source_list.count(x)\n",
        "    mydict.update({x:number})\n",
        "\n",
        "# delete all the false sources\n",
        "del mydict['. Ο Λ']\n",
        "del mydict['. Ο Γ']\n",
        "del mydict[' Η Γ']\n",
        "del mydict['8Κ - HDMI 2.1']\n",
        "del mydict[' LED ']\n",
        "del mydict[' ΠΗΓΗ']\n",
        "del mydict[' 13.660 ']\n",
        "del mydict[' comfort food E']\n",
        "del mydict['. Η 16']\n",
        "del mydict[' Ο Κ']\n",
        "del mydict[' Covid-19']\n",
        "del mydict[' C. Ε']\n",
        "del mydict['triple-double']\n",
        "del mydict[' ΣΥΡΙΖΑ']\n",
        "del mydict[' Android ']\n",
        "del mydict[' Alpha Bank']\n",
        "del mydict[' ΗΠΑ']\n",
        "del mydict[' Ahval']\n",
        "del mydict[' This picture was taken last w']\n",
        "del mydict[' Η Ο']\n",
        "del mydict[' https']\n",
        "\n",
        "#add in one key all different names for the same source for ape\n",
        "ape = mydict[' ΑΠΕ ΜΠΕ'] + mydict[' ΑΠΕ ΜΠΕ Γ'] + mydict[' ΑΠΕ-ΜΠΕ Δ']+ mydict[' ΑΠΕ-ΜΠΕ']+ mydict[' ΑΠΕ ']+ mydict[' ΑΠΕ-ΜΠΕ '] + mydict[' ΑΠΕ']\n",
        "\n",
        "#update the dictionary and delete all the similar ones\n",
        "mydict.update({' ΑΠΕ-ΜΠΕ':ape})\n",
        "del mydict[' ΑΠΕ ΜΠΕ']\n",
        "del mydict[' ΑΠΕ ΜΠΕ Γ']\n",
        "del mydict[' ΑΠΕ-ΜΠΕ Δ']\n",
        "del mydict[' ΑΠΕ ']\n",
        "del mydict[' ΑΠΕ']\n",
        "del mydict[' ΑΠΕ-ΜΠΕ ']\n",
        "\n",
        "# do the same for tempo24.gr\n",
        "tempo = mydict[' tempo24.gr'] + mydict[' tempo24.news']\n",
        "mydict.update({' tempo24.gr':tempo})\n",
        "del mydict[' tempo24.news']\n",
        "   \n",
        "#plot\n",
        "plot_barchart(mydict)"
      ],
      "execution_count": null,
      "outputs": [
        {
          "output_type": "display_data",
          "data": {
            "image/png": "[encoded data removed]",
            "text/plain": [
              "<Figure size 1440x360 with 1 Axes>"
            ]
          },
          "metadata": {
            "tags": [],
            "needs_background": "light"
          }
        }
      ]
    }
  ]
}