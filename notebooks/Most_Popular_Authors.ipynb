{
  "nbformat": 4,
  "nbformat_minor": 0,
  "metadata": {
    "kernelspec": {
      "display_name": "Python 3",
      "language": "python",
      "name": "python3"
    },
    "language_info": {
      "codemirror_mode": {
        "name": "ipython",
        "version": 3
      },
      "file_extension": ".py",
      "mimetype": "text/x-python",
      "name": "python",
      "nbconvert_exporter": "python",
      "pygments_lexer": "ipython3",
      "version": "3.8.6"
    },
    "colab": {
      "name": "Most_Popular_Authors.ipynb",
      "provenance": [],
      "include_colab_link": true
    }
  },
  "cells": [
    {
      "cell_type": "markdown",
      "metadata": {
        "id": "view-in-github",
        "colab_type": "text"
      },
      "source": [
        "<a href=\"https://colab.research.google.com/github/elenisproject/NewsCleanser/blob/master/notebooks/Most_Popular_Authors.ipynb\" target=\"_parent\"><img src=\"https://colab.research.google.com/assets/colab-badge.svg\" alt=\"Open In Colab\"/></a>"
      ]
    },
    {
      "cell_type": "markdown",
      "metadata": {
        "id": "tuqyrc5XOSsK"
      },
      "source": [
        "# In this notebook we are going to find the Most Popular Authors.\n",
        "<br>\n",
        "<font size=\"3\">\n",
        "First we need to import all the needed libraries for this project\n",
        "<br>\n",
        "We our going to use:\n",
        "\n",
        "- matplotlib\n",
        "- pandas\n",
        "- wordcloud\n",
        "- regex\n",
        "- unicodedata\n",
        "\n",
        "</font>"
      ]
    },
    {
      "cell_type": "code",
      "metadata": {
        "id": "n9AmMTS-OSsM"
      },
      "source": [
        "from matplotlib import pyplot as plt\n",
        "import pandas as pd\n",
        "import collections\n",
        "from collections import Counter,defaultdict,OrderedDict,namedtuple \n",
        "from wordcloud import WordCloud, STOPWORDS, ImageColorGenerator\n",
        "from datetime import datetime\n",
        "import re\n",
        "import unicodedata"
      ],
      "execution_count": null,
      "outputs": []
    },
    {
      "cell_type": "markdown",
      "metadata": {
        "id": "BWFhno-EOSsS"
      },
      "source": [
        "<br>\n",
        "<font size=\"3\"> \n",
        "    \n",
        "After installing and importing everything we need, we will write the functions that we will use in this project.\n",
        "    \n",
        "- **plot_barchart:** plots the given dictionary in a bar chart \n",
        "\n",
        "</font>\n",
        "<br>\n",
        "<br>"
      ]
    },
    {
      "cell_type": "code",
      "metadata": {
        "id": "55c3GqNnOSsU"
      },
      "source": [
        "#function to print output from a given dictionary\n",
        "def plot_barchart(mydict):\n",
        "    source = []\n",
        "    count = []\n",
        "\n",
        "    for w in sorted(mydict, key=mydict.get, reverse=True):\n",
        "        source.append(w)\n",
        "        count.append(mydict[w])\n",
        "\n",
        "    plt.figure(figsize=(20, 5))\n",
        "    plt.bar(source[0:10], count[0:10])\n",
        "    plt.title('Bar chart for 10 most popular Countries')\n",
        "    plt.grid(axis='y')\n",
        "    plt.show() "
      ],
      "execution_count": null,
      "outputs": []
    },
    {
      "cell_type": "code",
      "metadata": {
        "scrolled": false,
        "id": "5wzdUP1bOSsY",
        "outputId": "3ad918d0-2653-4781-e939-08eee10fdd51"
      },
      "source": [
        "#read the data\n",
        "df = pd.read_csv('output.csv')\n",
        "\n",
        "#fill all null values in the table\n",
        "df = df.fillna(\" \")\n",
        "\n",
        "#get all the authors\n",
        "authors = list(df['author'])\n",
        "\n",
        "\n",
        "#we want to find the personal authors not the ones with the sites signature\n",
        "unique_authors = set(authors)\n",
        "\n",
        "authors_dict = {k:0 for k in unique_authors}\n",
        "\n",
        "#delete all the unwanted keys from our dict\n",
        "del authors_dict['newsit.gr']\n",
        "del authors_dict['in.gr']\n",
        "del authors_dict[' Sport24']\n",
        "del authors_dict['lifo.gr']\n",
        "del authors_dict['newpost.gr']\n",
        "del authors_dict['naftemporiki.gr']\n",
        "del authors_dict['kathimerini.gr']\n",
        "del authors_dict['LIFOTEAM']\n",
        "del authors_dict['periodista.gr']\n",
        "del authors_dict['Newsroom']\n",
        "del authors_dict['iefimerida.gr']\n",
        "del authors_dict[' ΕΦ.ΣΥΝ. ']\n",
        "del authors_dict['ΤΟ ΠΟΝΤΙΚΙ WEB']\n",
        "del authors_dict['NEWSROOM']\n",
        "del authors_dict['tovima.gr']\n",
        "del authors_dict[' Sport24.gr']\n",
        "del authors_dict['THE LIFO TEAM']\n",
        "del authors_dict[' ΕΦ.ΣΥΝ ']\n",
        "del authors_dict[' sport24 radio']\n",
        "del authors_dict['protagon import']\n",
        "del authors_dict[' EΦ.ΣΥΝ. ']\n",
        "del authors_dict['-']\n",
        "del authors_dict['tanea.gr']\n",
        "del authors_dict['popaganda.gr']\n",
        "del authors_dict['efsyn.gr']\n",
        "del authors_dict['Protagon Team']\n",
        "del authors_dict[' in.gr Team ']\n",
        "del authors_dict['reader.gr']\n",
        "del authors_dict['topontiki.gr']\n",
        "del authors_dict[' efsyn.gr ']\n",
        "del authors_dict['THETOC TEAM']\n",
        "del authors_dict['Sportscast r']\n",
        "del authors_dict['Gazzetta team']\n",
        "\n",
        "#for each author in our dict count in the authors list how many articles he/she has produced\n",
        "for x in authors_dict:\n",
        "    count = authors.count(x)\n",
        "    authors_dict.update({x:count})\n",
        "    \n",
        "plot_barchart(authors_dict)"
      ],
      "execution_count": null,
      "outputs": [
        {
          "output_type": "display_data",
          "data": {
            "image/png": "[encoded data removed]",
            "text/plain": [
              "<Figure size 1440x360 with 1 Axes>"
            ]
          },
          "metadata": {
            "tags": [],
            "needs_background": "light"
          }
        }
      ]
    }
  ]
}