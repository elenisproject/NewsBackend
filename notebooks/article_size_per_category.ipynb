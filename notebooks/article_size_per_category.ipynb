{
  "nbformat": 4,
  "nbformat_minor": 0,
  "metadata": {
    "kernelspec": {
      "display_name": "Python 3",
      "language": "python",
      "name": "python3"
    },
    "language_info": {
      "codemirror_mode": {
        "name": "ipython",
        "version": 3
      },
      "file_extension": ".py",
      "mimetype": "text/x-python",
      "name": "python",
      "nbconvert_exporter": "python",
      "pygments_lexer": "ipython3",
      "version": "3.8.6"
    },
    "colab": {
      "name": "article_size_per_category.ipynb",
      "provenance": [],
      "include_colab_link": true
    }
  },
  "cells": [
    {
      "cell_type": "markdown",
      "metadata": {
        "id": "view-in-github",
        "colab_type": "text"
      },
      "source": [
        "<a href=\"https://colab.research.google.com/github/elenisproject/NewsCleanser/blob/master/notebooks/article_size_per_category.ipynb\" target=\"_parent\"><img src=\"https://colab.research.google.com/assets/colab-badge.svg\" alt=\"Open In Colab\"/></a>"
      ]
    },
    {
      "cell_type": "markdown",
      "metadata": {
        "id": "JQwwSYUV1k-t"
      },
      "source": [
        "# In this notebook we are going to find the Average Article Length per Category\n",
        "<br>\n",
        "<font size=\"3\">\n",
        "First we need to import all the needed libraries for this project\n",
        "<br>\n",
        "We our going to use:\n",
        "\n",
        "- matplotlib\n",
        "- pandas\n",
        "- wordcloud\n",
        "    </font>"
      ]
    },
    {
      "cell_type": "code",
      "metadata": {
        "id": "zh0Y_ZZW1k-u"
      },
      "source": [
        "%matplotlib inline\n",
        "from matplotlib import pyplot as plt\n",
        "import pandas as pd\n",
        "import collections\n",
        "from collections import Counter,defaultdict,OrderedDict,namedtuple \n",
        "from wordcloud import WordCloud, STOPWORDS, ImageColorGenerator"
      ],
      "execution_count": null,
      "outputs": []
    },
    {
      "cell_type": "markdown",
      "metadata": {
        "id": "ARp0Z92i1k-z"
      },
      "source": [
        "<br>\n",
        "<font size=\"4\">After installing and importing everything we are going to need we will read our data from the output.csv file</font>\n",
        "<br>\n",
        "<br>"
      ]
    },
    {
      "cell_type": "code",
      "metadata": {
        "id": "bDLWqWgV1k-0"
      },
      "source": [
        "df = pd.read_csv('output.csv')"
      ],
      "execution_count": null,
      "outputs": []
    },
    {
      "cell_type": "markdown",
      "metadata": {
        "id": "CRuOi94D1k-4"
      },
      "source": [
        "<font size=\"3\">First of all we will define the core functions for our project:\n",
        "- **length_category:** this function takes as input a category name and returns it's average article length.\n",
        "- **plot_barchart:** this function takes as input two lists x,y and plots a bar chart\n",
        "</font>"
      ]
    },
    {
      "cell_type": "code",
      "metadata": {
        "id": "BaBD6m_U1k-4"
      },
      "source": [
        "def length_category(category):\n",
        "    #group all articles by their topic\n",
        "    culture_articles = df.groupby(['topic']).get_group(category)['article_body']\n",
        "\n",
        "    #counter will be used to count the number of articles each category has\n",
        "    counter = 0\n",
        "    #sum_words will sum the length of all articles in order to \n",
        "    sum_words = 0\n",
        "    for words in culture_articles:\n",
        "        #if an article is empty just increase the counter\n",
        "        if type(words) == float:\n",
        "            counter += 1\n",
        "        #if the article isn't empty increase the counter and add to sum the articles length\n",
        "        else:\n",
        "            word_list = words.split()\n",
        "            sum_words = sum_words + len(word_list)\n",
        "            counter += 1\n",
        "\n",
        "    # devide the sum_words with the counter to find the mean length\n",
        "    average_length = sum_words/counter\n",
        "    return average_length\n",
        "\n",
        "#this function gets as input the average length for each topic, and the topics name and\n",
        "#plots the bar chart of each category  \n",
        "def plot_barchart(average,topic):\n",
        "    plt.figure(figsize=(15, 5))\n",
        "    plt.bar(categories, average)\n",
        "    plt.title('Bar chart for average article length per category')\n",
        "    plt.grid(axis='y')\n",
        "    plt.show()  "
      ],
      "execution_count": null,
      "outputs": []
    },
    {
      "cell_type": "markdown",
      "metadata": {
        "id": "kpBBmB681k-8"
      },
      "source": [
        "<font size=\"3\">The main code:</font>"
      ]
    },
    {
      "cell_type": "code",
      "metadata": {
        "id": "8nZCxXmt1k-8",
        "outputId": "27bd3898-4b20-4701-e4a4-7b87c4fcf604"
      },
      "source": [
        "#List unique values in the df['topic'] column\n",
        "categories = list(df.topic.unique())\n",
        "average = []\n",
        "\n",
        "#print the charts\n",
        "for category in categories:\n",
        "    #find the average length\n",
        "    top = length_category(category)\n",
        "    average.append(top)\n",
        "\n",
        "#plot the bar chart\n",
        "plot_barchart(average,categories)"
      ],
      "execution_count": null,
      "outputs": [
        {
          "output_type": "display_data",
          "data": {
            "image/png": "[encoded data removed]",
            "text/plain": [
              "<Figure size 1080x360 with 1 Axes>"
            ]
          },
          "metadata": {
            "tags": [],
            "needs_background": "light"
          }
        }
      ]
    }
  ]
}