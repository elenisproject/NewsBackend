{
  "nbformat": 4,
  "nbformat_minor": 0,
  "metadata": {
    "kernelspec": {
      "display_name": "Python 3",
      "language": "python",
      "name": "python3"
    },
    "language_info": {
      "codemirror_mode": {
        "name": "ipython",
        "version": 3
      },
      "file_extension": ".py",
      "mimetype": "text/x-python",
      "name": "python",
      "nbconvert_exporter": "python",
      "pygments_lexer": "ipython3",
      "version": "3.8.6"
    },
    "colab": {
      "name": "most_popular_authors.ipynb",
      "provenance": [],
      "collapsed_sections": [],
      "include_colab_link": true
    }
  },
  "cells": [
    {
      "cell_type": "markdown",
      "metadata": {
        "id": "view-in-github",
        "colab_type": "text"
      },
      "source": [
        "<a href=\"https://colab.research.google.com/github/elenisproject/NewsCleanser/blob/master/notebooks/most_popular_authors.ipynb\" target=\"_parent\"><img src=\"https://colab.research.google.com/assets/colab-badge.svg\" alt=\"Open In Colab\"/></a>"
      ]
    },
    {
      "cell_type": "markdown",
      "metadata": {
        "id": "6OMYWLvqSFQV"
      },
      "source": [
        "# In this notebook we are going to find the Most Popular Authors.\n",
        "<br>\n",
        "<font size=\"3\">\n",
        "First we need to import all the needed libraries for this project\n",
        "<br>\n",
        "We our going to use:\n",
        "\n",
        "- matplotlib\n",
        "- pandas\n",
        "- wordcloud\n",
        "- regex\n",
        "- unicodedata\n",
        "\n",
        "</font>"
      ]
    },
    {
      "cell_type": "code",
      "metadata": {
        "id": "XGSZ8GrDSFQW"
      },
      "source": [
        "from matplotlib import pyplot as plt\n",
        "import pandas as pd\n",
        "import collections\n",
        "from collections import Counter,defaultdict,OrderedDict,namedtuple \n",
        "from wordcloud import WordCloud, STOPWORDS, ImageColorGenerator\n",
        "from datetime import datetime\n",
        "import re\n",
        "import unicodedata"
      ],
      "execution_count": null,
      "outputs": []
    },
    {
      "cell_type": "markdown",
      "metadata": {
        "id": "GWr72tdaSFQb"
      },
      "source": [
        "<br>\n",
        "<font size=\"3\"> \n",
        "    \n",
        "After installing and importing everything we need, we will write the functions that we will use in this project.\n",
        "    \n",
        "- **plot_barchart:** plots the given dictionary in a bar chart \n",
        "\n",
        "</font>\n",
        "<br>\n",
        "<br>"
      ]
    },
    {
      "cell_type": "code",
      "metadata": {
        "id": "8OwDxSfqSFQb"
      },
      "source": [
        "#function to print output from a given dictionary\n",
        "def plot_barchart(mydict):\n",
        "    source = []\n",
        "    count = []\n",
        "\n",
        "    for w in sorted(mydict, key=mydict.get, reverse=True):\n",
        "        source.append(w)\n",
        "        count.append(mydict[w])\n",
        "\n",
        "    plt.figure(figsize=(20, 5))\n",
        "    plt.bar(source[0:10], count[0:10])\n",
        "    plt.title('Bar chart for 10 most popular Authors')\n",
        "    plt.grid(axis='y')\n",
        "    plt.show() "
      ],
      "execution_count": null,
      "outputs": []
    },
    {
      "cell_type": "code",
      "metadata": {
        "scrolled": true,
        "id": "DQb877hbSFQf",
        "outputId": "b97a424b-d3e9-4760-f15a-8c4373d823c4"
      },
      "source": [
        "#read the data\n",
        "df = pd.read_csv('output.csv')\n",
        "\n",
        "#fill all null values in the table\n",
        "df = df.fillna(\" \")\n",
        "\n",
        "#get all the authors\n",
        "authors = list(df['author'])\n",
        "\n",
        "\n",
        "#we want to find the personal authors not the ones with the sites signature\n",
        "unique_authors = set(authors)\n",
        "\n",
        "authors_dict = {k:0 for k in unique_authors}\n",
        "\n",
        "for x in authors_dict:\n",
        "    temp =re.search(r'[A-Za-z\\.0-9]+|[Α-Ω]+\\.[Α-Ω]+\\s+|[Α-Ω]+\\.[Α-Ω]+\\.\\s+',x)\n",
        "    # count only the ones that don't match the above regular expretion \n",
        "    if temp == None: \n",
        "        count = authors.count(x)\n",
        "        authors_dict.update({x:count})\n",
        "    \n",
        "plot_barchart(authors_dict)"
      ],
      "execution_count": null,
      "outputs": [
        {
          "output_type": "display_data",
          "data": {
            "image/png": "[encoded data removed]",
            "text/plain": [
              "<Figure size 1440x360 with 1 Axes>"
            ]
          },
          "metadata": {
            "tags": [],
            "needs_background": "light"
          }
        }
      ]
    }
  ]
}