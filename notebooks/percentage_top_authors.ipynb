{
  "nbformat": 4,
  "nbformat_minor": 0,
  "metadata": {
    "kernelspec": {
      "display_name": "Python 3",
      "language": "python",
      "name": "python3"
    },
    "language_info": {
      "codemirror_mode": {
        "name": "ipython",
        "version": 3
      },
      "file_extension": ".py",
      "mimetype": "text/x-python",
      "name": "python",
      "nbconvert_exporter": "python",
      "pygments_lexer": "ipython3",
      "version": "3.8.6"
    },
    "colab": {
      "name": "percentage_top_authors.ipynb",
      "provenance": [],
      "include_colab_link": true
    }
  },
  "cells": [
    {
      "cell_type": "markdown",
      "metadata": {
        "id": "view-in-github",
        "colab_type": "text"
      },
      "source": [
        "<a href=\"https://colab.research.google.com/github/elenisproject/NewsCleanser/blob/master/notebooks/percentage_top_authors.ipynb\" target=\"_parent\"><img src=\"https://colab.research.google.com/assets/colab-badge.svg\" alt=\"Open In Colab\"/></a>"
      ]
    },
    {
      "cell_type": "markdown",
      "metadata": {
        "id": "1oN1p_knXzv9"
      },
      "source": [
        "# In this notebook we'll discover the percentage of publications by the most popular authors.\n",
        "<br>\n",
        "<font size=\"3\">\n",
        "First we need to import all the needed libraries for this project\n",
        "<br>\n",
        "We our going to use:\n",
        "\n",
        "- matplotlib\n",
        "- pandas\n",
        "- wordcloud\n",
        "- regex\n",
        "- unicodedata\n",
        "\n",
        "</font>"
      ]
    },
    {
      "cell_type": "code",
      "metadata": {
        "id": "HXooxtwQXzv-"
      },
      "source": [
        "from matplotlib import pyplot as plt\n",
        "import pandas as pd\n",
        "import collections\n",
        "from collections import Counter,defaultdict,OrderedDict,namedtuple \n",
        "from wordcloud import WordCloud, STOPWORDS, ImageColorGenerator\n",
        "from datetime import datetime\n",
        "import re\n",
        "import unicodedata"
      ],
      "execution_count": null,
      "outputs": []
    },
    {
      "cell_type": "markdown",
      "metadata": {
        "id": "FV6NcsbYXzwD"
      },
      "source": [
        "<br>\n",
        "<font size=\"3\"> \n",
        "    \n",
        "After installing and importing everything we need, we will write the functions that we will use in this project.\n",
        "    \n",
        "- **most_popular_authors(x):** gets as input a dictionary with all authors and returns the top 10 most popular ones.\n",
        "- **plot_barchart(x,y):** gets as input two lists and creates the chart.\n",
        "</font>\n",
        "<br>"
      ]
    },
    {
      "cell_type": "code",
      "metadata": {
        "id": "N2hG8n06XzwD"
      },
      "source": [
        "#function to return a list with the 10 most popular authors\n",
        "def most_popular_authors(mydict):\n",
        "    count = []\n",
        "    top_authors = []\n",
        "\n",
        "    for w in sorted(mydict, key=mydict.get, reverse=True):\n",
        "        top_authors.append(w)\n",
        "        count.append(mydict[w])\n",
        " \n",
        "    return (top_authors[0:9],count[0:9])\n",
        "\n",
        "#function to print output from two lists\n",
        "def plot_barchart(source,count):\n",
        "    plt.figure(figsize=(20, 5))\n",
        "    plt.bar(source, count)\n",
        "    plt.title('Percentage of publications of the 100 most popular authors')\n",
        "    plt.grid(axis='y')\n",
        "    plt.show() "
      ],
      "execution_count": null,
      "outputs": []
    },
    {
      "cell_type": "code",
      "metadata": {
        "id": "RPdOnS5QXzwH",
        "outputId": "a001cc75-90f6-4b65-b79e-c680b95778de"
      },
      "source": [
        "#read the data\n",
        "df = pd.read_csv('output.csv')\n",
        "\n",
        "#fill all null values in the table\n",
        "df = df.fillna(\" \")\n",
        "\n",
        "#get all the authors\n",
        "authors = list(df['author'])\n",
        "\n",
        "\n",
        "#we want to find the personal authors not the ones with the sites signature\n",
        "unique_authors = set(authors)\n",
        "\n",
        "#create an dictionary with all the authors\n",
        "authors_dict = {k:0 for k in unique_authors}\n",
        "\n",
        "#delete the authors that aren't signed by one person\n",
        "del authors_dict['newsit.gr']\n",
        "del authors_dict['in.gr']\n",
        "del authors_dict[' Sport24']\n",
        "del authors_dict['lifo.gr']\n",
        "del authors_dict['newpost.gr']\n",
        "del authors_dict['naftemporiki.gr']\n",
        "del authors_dict['kathimerini.gr']\n",
        "del authors_dict['LIFOTEAM']\n",
        "del authors_dict['periodista.gr']\n",
        "del authors_dict['Newsroom']\n",
        "del authors_dict['iefimerida.gr']\n",
        "del authors_dict[' ΕΦ.ΣΥΝ. ']\n",
        "del authors_dict['ΤΟ ΠΟΝΤΙΚΙ WEB']\n",
        "del authors_dict['NEWSROOM']\n",
        "del authors_dict['tovima.gr']\n",
        "del authors_dict[' Sport24.gr']\n",
        "del authors_dict['THE LIFO TEAM']\n",
        "del authors_dict[' ΕΦ.ΣΥΝ ']\n",
        "del authors_dict[' sport24 radio']\n",
        "del authors_dict['protagon import']\n",
        "del authors_dict[' EΦ.ΣΥΝ. ']\n",
        "del authors_dict['-']\n",
        "del authors_dict['tanea.gr']\n",
        "del authors_dict['popaganda.gr']\n",
        "del authors_dict['efsyn.gr']\n",
        "del authors_dict['Protagon Team']\n",
        "del authors_dict[' in.gr Team ']\n",
        "del authors_dict['reader.gr']\n",
        "del authors_dict['topontiki.gr']\n",
        "del authors_dict[' efsyn.gr ']\n",
        "del authors_dict['THETOC TEAM']\n",
        "del authors_dict['Sportscast r']\n",
        "del authors_dict['Gazzetta team']\n",
        "\n",
        "\n",
        "#count the number of articles each author has published\n",
        "for x in authors_dict:\n",
        "    count = authors.count(x)\n",
        "    authors_dict.update({x:count})\n",
        "\n",
        "#get the top 10 most popular authors\n",
        "top = most_popular_authors(authors_dict)\n",
        "top_authors = top[0]\n",
        "number_of_articles = top[1]\n",
        "\n",
        "#get the number of all available articles in order to find the presentage\n",
        "total_articles = len(df.index) + 1 \n",
        "\n",
        "# percentage = (i * 100)/total_number_of_available_articles\n",
        "index = 0\n",
        "for i in number_of_articles:\n",
        "    number_of_articles[index] = (i * 100)/ total_articles\n",
        "    index += 1\n",
        "\n",
        "#print(number_of_articles)\n",
        "plot_barchart(top_authors,number_of_articles)"
      ],
      "execution_count": null,
      "outputs": [
        {
          "output_type": "display_data",
          "data": {
            "image/png": "[encoded data removed]",
            "text/plain": [
              "<Figure size 1440x360 with 1 Axes>"
            ]
          },
          "metadata": {
            "tags": [],
            "needs_background": "light"
          }
        }
      ]
    }
  ]
}