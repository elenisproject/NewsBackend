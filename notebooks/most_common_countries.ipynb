{
  "nbformat": 4,
  "nbformat_minor": 0,
  "metadata": {
    "kernelspec": {
      "display_name": "Python 3",
      "language": "python",
      "name": "python3"
    },
    "language_info": {
      "codemirror_mode": {
        "name": "ipython",
        "version": 3
      },
      "file_extension": ".py",
      "mimetype": "text/x-python",
      "name": "python",
      "nbconvert_exporter": "python",
      "pygments_lexer": "ipython3",
      "version": "3.8.6"
    },
    "colab": {
      "name": "most_common_countries.ipynb",
      "provenance": [],
      "include_colab_link": true
    }
  },
  "cells": [
    {
      "cell_type": "markdown",
      "metadata": {
        "id": "view-in-github",
        "colab_type": "text"
      },
      "source": [
        "<a href=\"https://colab.research.google.com/github/elenisproject/NewsCleanser/blob/master/notebooks/most_common_countries.ipynb\" target=\"_parent\"><img src=\"https://colab.research.google.com/assets/colab-badge.svg\" alt=\"Open In Colab\"/></a>"
      ]
    },
    {
      "cell_type": "markdown",
      "metadata": {
        "id": "rAKZ3-Tq6Ict"
      },
      "source": [
        "# In this notebook we are going to Find the Most Discussed countries.\n",
        "<br>\n",
        "<font size=\"3\">\n",
        "First we need to import all the needed libraries for this project\n",
        "<br>\n",
        "We our going to use:\n",
        "\n",
        "- matplotlib\n",
        "- pandas\n",
        "- wordcloud\n",
        "- regex\n",
        "- unicodedata\n",
        "\n",
        "    </font>"
      ]
    },
    {
      "cell_type": "code",
      "metadata": {
        "id": "sihRiIJu6Icu"
      },
      "source": [
        "from matplotlib import pyplot as plt\n",
        "import pandas as pd\n",
        "import collections\n",
        "from collections import Counter,defaultdict,OrderedDict,namedtuple \n",
        "from wordcloud import WordCloud, STOPWORDS, ImageColorGenerator\n",
        "from datetime import datetime\n",
        "import re\n",
        "import unicodedata"
      ],
      "execution_count": null,
      "outputs": []
    },
    {
      "cell_type": "markdown",
      "metadata": {
        "id": "Ks65Bl_l6Icz"
      },
      "source": [
        "<br>\n",
        "<font size=\"3\"> \n",
        "    \n",
        "After installing and importing everything we need, we will write the functions that we will use in this project.\n",
        "    \n",
        "- **removeAccents:** removes all accents from the given string\n",
        "- **normalize:** keeps only small greek letters\n",
        "- **plot_barchart:** plots the given dictionary in a bar chart \n",
        "\n",
        "</font>\n",
        "<br>\n",
        "<br>"
      ]
    },
    {
      "cell_type": "code",
      "metadata": {
        "scrolled": true,
        "id": "harAUFkE6Ic0"
      },
      "source": [
        "#make all small function\n",
        "def removeAccents(input_str):\n",
        "    nfkd_form = unicodedata.normalize('NFKD', input_str)\n",
        "    return (u\"\".join([c for c in nfkd_form if not unicodedata.combining(c)])).lower()\n",
        "\n",
        "#keep all small words\n",
        "def normalize (i):\n",
        "    all_small = removeAccents(i)\n",
        "    split_to_tokens = re.findall(r'[α-ω]+',all_small)\n",
        "    return(split_to_tokens)\n",
        "\n",
        "#function to print output from a given dictionary\n",
        "def plot_barchart(mydict):\n",
        "    source = []\n",
        "    count = []\n",
        "\n",
        "    for w in sorted(mydict, key=mydict.get, reverse=True):\n",
        "        source.append(w)\n",
        "        count.append(mydict[w])\n",
        "\n",
        "    plt.figure(figsize=(20, 5))\n",
        "    plt.bar(source[0:10], count[0:10])\n",
        "    plt.title('Bar chart for 10 most popular Countries')\n",
        "    plt.grid(axis='y')\n",
        "    plt.show() "
      ],
      "execution_count": null,
      "outputs": []
    },
    {
      "cell_type": "markdown",
      "metadata": {
        "id": "OwZtgQYX6Ic3"
      },
      "source": [
        "<br>\n",
        "<font size=\"3\">\n",
        "After installing and importing everything we need, we will read our data from the output.csv file. We will then create a dictionary with the countries and we will find the most popular ones in the greek journalism.\n",
        "</font>\n",
        "<br>\n",
        "<br>"
      ]
    },
    {
      "cell_type": "code",
      "metadata": {
        "id": "sE21hfBD6Ic4",
        "outputId": "6b85cbb9-b470-4b84-8ccb-4caaa42547dc"
      },
      "source": [
        "#read the data\n",
        "df = pd.read_csv('output.csv')\n",
        "\n",
        "#fill all null values in the table\n",
        "df = df.fillna(\" \")\n",
        "\n",
        "#create a list with all the countries\n",
        "countries_list = [\"Κίνα\", \"Ινδία\", \"ΗΠΑ\", \"Ινδονησία\", \"Κίνα\", \"Ινδία\", \"ΗΠΑ\", \"Ινδονησία\", \"Πακιστάν\", \"Βραζιλία\", \"Νιγηρία\", \"Μπανγκλαντές\", \"Ρωσία\", \"Μεξικό\", \"Ιαπωνία\", \"Αιθιοπία\", \"Φιλιππίνες\", \"Αίγυπτος\", \"Βιετνάμ\", \"Λαϊκή Δημοκρατία του Κονγκό \", \"Ιράν\", \"Τουρκία\", \"Γερμανία\", \"Ηνωμένο Βασίλειο\", \"Ταϊλάνδη\", \"Γαλλία\", \"Ιταλία\", \"Νότια Αφρική\", \"Τανζανία\", \"Μιανμάρ\", \"Νότια Κορέα\", \"Κολομβία\", \"Κένυα\", \"Ισπανία\", \"Αργεντινή\", \"Αλγερία\", \"Σουδάν\", \"Ουκρανία\", \"Ουγκάντα\", \"Ιράκ\", \"Πολωνία\", \"Καναδάς\", \"Μαρόκο\", \"Σαουδική Αραβία\", \"Ουζμπεκιστάν\", \"Αφγανιστάν\", \"Μαλαισία\", \"Περού\", \"Βενεζουέλα\", \"Ανγκόλα\", \"Γκάνα\", \"Μοζαμβίκη\", \"Νεπάλ\", \"Υεμένη\", \"Καμερούν\", \"Ακτή Ελεφαντοστού \", \"Μαδαγασκάρη\", \"Βόρεια Κορέα\", \"Αυστραλία\", \"Ταϊβάν \", \"Νίγηρας\", \"Σρι Λάνκα\", \"Μπουρκίνα Φάσο\", \"Μάλι\", \"Χιλή\", \"Ρουμανία\", \"Καζακστάν\", \"Ζάμπια\", \"Μαλάουι\", \"Ισημερινός\", \"Συρία\", \"Ολλανδία\", \"Γουατεμάλα\", \"Καμπότζη\", \"Σενεγάλη\", \"Τσαντ\", \"Σομαλία\", \"Ζιμπάμπουε\", \"Ρουάντα\", \"Γουινέα\", \"Μπενίν\", \"Αϊτή\", \"Τυνησία\", \"Βολιβία\", \"Βέλγιο\", \"Μπουρούντι\", \"Νότιο Σουδάν\", \"Κούβα\", \"Τσεχία\", \"Ιορδανία\", \"Δομινικανή Δημοκρατία\", \"Σουηδία\", \"Πορτογαλία\", \"Αζερμπαϊτζάν\", \"Ηνωμένα Αραβικά Εμιράτα\", \"Ουγγαρία\", \"Λευκορωσία\", \"Τατζικιστάν\", \"Ονδούρα\", \"Ισραήλ\", \"Παπούα Νέα Γουινέα\", \"Αυστρία\", \"Ελβετία\", \"Σιέρα Λεόνε\", \"Τόγκο\", \"Χονγκ Κονγκ\", \"Λάος\", \"Παραγουάη\", \"Βουλγαρία\", \"Σερβία\", \"Λιβύη\", \"Λίβανος\", \"Νικαράγουα\", \"Κιργιζία\", \"Ελ Σαλβαδόρ\", \"Τουρκμενιστάν\", \"Δανία\", \"Σιγκαπούρη\", \"Φινλανδία\", \"Δημοκρατία του Κονγκό\", \"Σλοβακία\", \"Νορβηγία \", \"Κόστα Ρίκα\", \"Λιβερία\", \"Κράτος της Παλαιστίνης\", \"Νέα Ζηλανδία\", \"Ιρλανδία\", \"Κεντροαφρικανική Δημοκρατία \", \"Κουβέιτ\", \"Ομάν\", \"Παναμάς\", \"Μαυριτανία\", \"Κροατία\", \"Γεωργία\", \"Ερυθραία\", \"Ουρουγουάη\", \"Μογγολία\", \"Βοσνία και Ερζεγοβίνη\", \"Πουέρτο Ρίκο\", \"Αρμενία\", \"Αλβανία\", \"Λιθουανία\", \"Κατάρ\", \"Τζαμάικα\", \"Μολδαβία\", \"Ναμίμπια\", \"Γκάμπια\", \"Μποτσουάνα\", \"Γκαμπόν\", \"Λεσότο\", \"Σλοβενία\", \"Βόρεια Μακεδονία\", \"Λετονία\", \"Κόσοβο\", \"Μπαχρέιν\", \"Γουινέα-Μπισσάου\", \"Ισημερινή Γουινέα\", \"Τρινιντάντ και Τομπάγκο \", \"Εσθονία\", \"Ανατολικό Τιμόρ\", \"Μαυρίκιος \", \"Εσουατίνι\", \"Τζιμπουτί\", \"Κομόρες \", \"Φίτζι\", \"Κύπρος\", \"Ρεϊνιόν\", \"Γουιάνα\", \"Μπουτάν\", \"Νήσοι Σολομώντα\", \"Μακάο\", \"Λουξεμβούργο\", \"Μαυροβούνιο\", \"Δυτική Σαχάρα\", \"Σουρινάμ\", \"Πράσινο Ακρωτήριο\", \"Μάλτα\", \"Υπερδνειστερία\", \"Μπρουνέι\", \"Μπελίζ\", \"Μπαχάμες\", \"Μαλδίβες\", \"Γουαδελούπη\", \"Ισλανδία\", \"Μαρτινίκα\", \"Γαλλική Γουιάνα\", \"Μαγιότ\", \"Γαλλική Πολυνησία\", \"Μπαρμπάντος\", \"Βανουάτου\", \"Νέα Καληδονία\", \"Αμπχαζία\", \"Σάο Τομέ και Πρίνσιπε\", \"Σαμόα\", \"Αγία Λουκία\", \"Γκουάμ\", \"Κουρασάο\", \"Αρούμπα\", \"Γρενάδα\", \"Άγιος Βικέντιος και Γρεναδίνες \", \"Κιριμπάτι\", \"Τζέρσεϊ\", \"Αμερικανικές Παρθένοι Νήσοι\", \"Μικρονησία\", \"Τόνγκα\", \"Σεϋχέλλες\", \"Αντίγκουα και Μπαρμπούντα\", \"Νήσος του Μαν\", \"Ανδόρρα\", \"Δομινίκα\", \"Κέιμαν Νήσοι\", \"Βερμούδες\", \"Γκέρνσεϊ\", \"Γροιλανδία\", \"Αμερικανική Σαμόα\", \"Βόρειες Μαριάνες Νήσοι\", \"Νότια Οσσετία\", \"Νήσοι Μάρσαλ\", \"Άγιος Χριστόφορος και Νέβις\", \"Νήσοι Φερόες\", \"Τερκς και Κέικος\", \"Άγιος Μαρτίνος (Ολλανδία)\", \"Λίχτενσταϊν\", \"Μονακό\", \"Άγιος Μαρτίνος (Γαλλία)\", \"Γιβραλτάρ\", \"Άγιος Μαρίνος\", \"Βρετανικές Παρθένοι Νήσοι\", \"Παλάου\", \"Νήσοι Κουκ\", \"Ανγκουίλα\", \"Ουαλίς και Φουτουνά\", \"Τουβαλού\", \"Ναουρού\", \"Άγιος Βαρθολομαίος\", \"Σαιν Πιερ και Μικελόν\", \"Αγία Ελένη, Ασενσιόν και Τριστάν ντα Κούνια \", \"Μοντσερράτ\", \"Νήσοι Φώκλαντ\", \"Νήσος των Χριστουγέννων\", \"Νησί Νόρφολκ\", \"Νιούε\", \"Τοκελάου\", \"Βατικανό\", \"Νησιά Κόκος\"]\n",
        "\n",
        "#normalize the countries list\n",
        "normal_list = []\n",
        "\n",
        "for x in countries_list:   \n",
        "    all_in_one_string = \" \"\n",
        "    temp = normalize(x)\n",
        "    all_in_one_string = temp[0]\n",
        "    for y in temp[1:]:\n",
        "        all_in_one_string = all_in_one_string + \" \" + y\n",
        "    normal_list.append(all_in_one_string)\n",
        "\n",
        "#create a countries dict with key the countries name and value zero\n",
        "countries_dict = {k:0 for k in normal_list}\n",
        "\n",
        "    \n",
        "for x in df['article_body']:\n",
        "    #get a the article splitted by words in a list\n",
        "    article = x\n",
        "    article_list = x.split()\n",
        "    #rotate over each dict key and count the times it is appeared\n",
        "    for y in countries_dict:\n",
        "        res = re.search(rf\"\\b(?=\\w){y}(?!\\w)\", article, re.IGNORECASE)\n",
        "        if res != None:\n",
        "            count = countries_dict[y]+1\n",
        "            countries_dict.update({y:count}) \n",
        "\n",
        "plot_barchart(countries_dict)"
      ],
      "execution_count": null,
      "outputs": [
        {
          "output_type": "display_data",
          "data": {
            "image/png": "[encoded data removed]",
            "text/plain": [
              "<Figure size 1440x360 with 1 Axes>"
            ]
          },
          "metadata": {
            "tags": [],
            "needs_background": "light"
          }
        }
      ]
    }
  ]
}